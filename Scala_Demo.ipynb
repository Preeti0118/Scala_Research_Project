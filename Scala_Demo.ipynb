{
 "cells": [
  {
   "cell_type": "markdown",
   "metadata": {},
   "source": [
    "# Scala\n",
    "(The dcumentation on Scala mentioned in this notebook is taken from - https://docs.scala-lang.org/overviews/scala-book/functional-programming.html and from https://learnxinyminutes.com/docs/scala/)\n",
    "\n",
    "Scala lets you write code in an object-oriented programming (OOP) style, a functional programming (FP) style, and even in a hybrid style, using both approaches in combination.\n"
   ]
  },
  {
   "cell_type": "markdown",
   "metadata": {},
   "source": [
    "# Functional Programming\n",
    "Functional programming is a style of programming that emphasizes writing applications using only pure functions and immutable values. \n",
    "\n",
    "## Pure Functions\n",
    "A function is a pure function if - \n",
    " - The function’s output depends only on its input variables\n",
    " - It doesn’t mutate any hidden state\n",
    " - It doesn’t have any “back doors”: It doesn’t read data from the outside world (including the console, web   services, databases, files, etc.), or write data to the outside world\n",
    "\n",
    "In other words - \n",
    "A pure function is a function that depends only on its declared inputs and its internal algorithm to produce its output. It does not read any other values from “the outside world” — the world outside of the function’s scope — and it does not modify any values in the outside world.\n",
    "\n",
    "\n",
    "For Example Math functions"
   ]
  },
  {
   "cell_type": "code",
   "execution_count": 1,
   "metadata": {},
   "outputs": [
    {
     "data": {
      "text/plain": [
       "Intitializing Scala interpreter ..."
      ]
     },
     "metadata": {},
     "output_type": "display_data"
    },
    {
     "data": {
      "text/plain": [
       "Spark Web UI available at http://zipcodes-mbp-4.lan:4041\n",
       "SparkContext available as 'sc' (version = 2.4.5, master = local[*], app id = local-1595711919186)\n",
       "SparkSession available as 'spark'\n"
      ]
     },
     "metadata": {},
     "output_type": "display_data"
    },
    {
     "data": {
      "text/plain": [
       "r: Double = 2.0\n"
      ]
     },
     "execution_count": 1,
     "metadata": {},
     "output_type": "execute_result"
    }
   ],
   "source": [
    "val r = Math.sqrt(4)"
   ]
  },
  {
   "cell_type": "markdown",
   "metadata": {},
   "source": [
    "## Impure Functions\n",
    "Impure functions do one or more of these things:\n",
    " - Read hidden inputs, i.e., they access variables and data not explicitly passed into the function as input parameters\n",
    " - Write hidden outputs\n",
    " - Mutate the parameters they are given\n",
    " - Perform some sort of I/O with the outside world\n",
    " \n",
    "For example any function that returns unit is an impure function .. like \"foreach\" method. This method is only used for side effects like printing out. It only returns type \"Unit\". For that matter any method that returns type \"Unit\" is an impure function.\n",
    " \n",
    "Impure functions are also required in programming. A common recommendation is to write the core of your application using pure functions, and then to use impure functions to communicate with the outside world."
   ]
  },
  {
   "cell_type": "markdown",
   "metadata": {},
   "source": [
    "## REPL\n",
    "REPL stands for Read Eval Print Loop.\n",
    "It is a command line interface where you may type any Scala expression, and the result will be evaluated and printed. This is good tool to quickly try and experiment scala expressions."
   ]
  },
  {
   "cell_type": "markdown",
   "metadata": {},
   "source": [
    "### Print\n",
    "To print you can use println or print.\n",
    "println will force a new line for the next print wheras print statement will not force a  new line"
   ]
  },
  {
   "cell_type": "code",
   "execution_count": 18,
   "metadata": {},
   "outputs": [
    {
     "name": "stdout",
     "output_type": "stream",
     "text": [
      "Line 1\n",
      "Line 2 printed on a new line\n",
      "Line 1 Line 2 printed on the same line"
     ]
    }
   ],
   "source": [
    "// Printing, and forcing a new line on the next print\n",
    "println(\"Line 1\")\n",
    "println(\"Line 2 printed on a new line\")\n",
    "\n",
    "// Printing, without forcing a new line on next print\n",
    "print(\"Line 1 \")\n",
    "print(\"Line 2 printed on the same line\")\n"
   ]
  },
  {
   "cell_type": "markdown",
   "metadata": {},
   "source": [
    "### Comments\n",
    "Single line can be commented using double slash //\n",
    "\n",
    "Multiline can be commented by /* and */ similar to java"
   ]
  },
  {
   "cell_type": "markdown",
   "metadata": {},
   "source": [
    "### Decalre Variables\n",
    "In scala variables can be declared as val or var\n",
    "\n",
    " - variables decalred with val are immutable\n",
    " - variables declared with var are mutable"
   ]
  },
  {
   "cell_type": "code",
   "execution_count": 21,
   "metadata": {},
   "outputs": [
    {
     "name": "stdout",
     "output_type": "stream",
     "text": [
      "5\n",
      "6"
     ]
    },
    {
     "data": {
      "text/plain": [
       "x: Int = 6\n",
       "x: Int = 6\n"
      ]
     },
     "execution_count": 21,
     "metadata": {},
     "output_type": "execute_result"
    }
   ],
   "source": [
    "//var variblaes can be changed\n",
    "var x = 5\n",
    "println(x)\n",
    "x = 6\n",
    "print(x)"
   ]
  },
  {
   "cell_type": "code",
   "execution_count": 22,
   "metadata": {},
   "outputs": [
    {
     "ename": "<console>",
     "evalue": "28: error: reassignment to val",
     "output_type": "error",
     "traceback": [
      "<console>:28: error: reassignment to val",
      "       x = 6",
      "         ^",
      ""
     ]
    }
   ],
   "source": [
    "//changing a val variable will result in an error\n",
    "val x = 5\n",
    "println(x)\n",
    "x = 6\n",
    "println(x)"
   ]
  },
  {
   "cell_type": "markdown",
   "metadata": {},
   "source": [
    "### Data Types and Structures\n"
   ]
  },
  {
   "cell_type": "markdown",
   "metadata": {},
   "source": [
    "Scala is a statically typed language, yet\n",
    "we do not need to specify a type. This is due to a language feature called type\n",
    "inference. In most cases, Scala compiler can guess what the type of a variable\n",
    "is, so you don't have to type it every time. \n"
   ]
  },
  {
   "cell_type": "markdown",
   "metadata": {},
   "source": [
    "Data types are\n",
    " - Int\n",
    " - Double\n",
    " - String (strings are surrounded by double quotes or triple quotes for multilines)\n",
    " - true\n",
    " - false\n",
    " \n",
    "Data Structures are \n",
    " - Array\n",
    " - Tuple"
   ]
  },
  {
   "cell_type": "markdown",
   "metadata": {},
   "source": [
    "## Functions\n",
    "In Scala there is no return command in functions. The last statement in a function acts as the return statement\n",
    "The functions are defined as -\n",
    "\n",
    "### def functionname (arguments) : returntype = {body of the function}\n",
    "\n",
    "we can skip {} if the body of the function is a single expression"
   ]
  },
  {
   "cell_type": "code",
   "execution_count": 26,
   "metadata": {},
   "outputs": [
    {
     "data": {
      "text/plain": [
       "double: (x: Int)Int\n"
      ]
     },
     "execution_count": 26,
     "metadata": {},
     "output_type": "execute_result"
    }
   ],
   "source": [
    "def doubler(x: Int): Int = {\n",
    "    x * 2\n",
    "}"
   ]
  },
  {
   "cell_type": "code",
   "execution_count": 27,
   "metadata": {},
   "outputs": [
    {
     "data": {
      "text/plain": [
       "res13: Int = 4\n"
      ]
     },
     "execution_count": 27,
     "metadata": {},
     "output_type": "execute_result"
    }
   ],
   "source": [
    "doubler(2)"
   ]
  },
  {
   "cell_type": "code",
   "execution_count": 1,
   "metadata": {},
   "outputs": [
    {
     "data": {
      "text/plain": [
       "Intitializing Scala interpreter ..."
      ]
     },
     "metadata": {},
     "output_type": "display_data"
    },
    {
     "data": {
      "text/plain": [
       "Spark Web UI available at http://zipcodes-mbp-4.lan:4040\n",
       "SparkContext available as 'sc' (version = 2.4.5, master = local[*], app id = local-1595709727049)\n",
       "SparkSession available as 'spark'\n"
      ]
     },
     "metadata": {},
     "output_type": "display_data"
    },
    {
     "name": "stdout",
     "output_type": "stream",
     "text": [
      "Hello World\n"
     ]
    }
   ],
   "source": [
    "//simple code Hello World\n",
    "println(\"Hello World\")"
   ]
  },
  {
   "cell_type": "code",
   "execution_count": 14,
   "metadata": {},
   "outputs": [
    {
     "data": {
      "text/plain": [
       "res2: String = \" world\"\n"
      ]
     },
     "execution_count": 14,
     "metadata": {},
     "output_type": "execute_result"
    }
   ],
   "source": [
    "\"hello world\".drop(5)"
   ]
  },
  {
   "cell_type": "code",
   "execution_count": 13,
   "metadata": {},
   "outputs": [
    {
     "data": {
      "text/plain": [
       "res1: String = hello\n"
      ]
     },
     "execution_count": 13,
     "metadata": {},
     "output_type": "execute_result"
    }
   ],
   "source": [
    "\"hello world\".take(5)\n"
   ]
  },
  {
   "cell_type": "code",
   "execution_count": 54,
   "metadata": {},
   "outputs": [
    {
     "data": {
      "text/plain": [
       "res35: Int = 11\n"
      ]
     },
     "execution_count": 54,
     "metadata": {},
     "output_type": "execute_result"
    }
   ],
   "source": [
    "\"hello world\".length"
   ]
  },
  {
   "cell_type": "markdown",
   "metadata": {},
   "source": [
    "## Flow Control"
   ]
  },
  {
   "cell_type": "code",
   "execution_count": 56,
   "metadata": {},
   "outputs": [
    {
     "name": "stdout",
     "output_type": "stream",
     "text": [
      "1\n",
      "2\n",
      "3\n",
      "4\n",
      "5\n"
     ]
    },
    {
     "data": {
      "text/plain": [
       "r: scala.collection.immutable.Range.Inclusive = Range(1, 2, 3, 4, 5)\n"
      ]
     },
     "execution_count": 56,
     "metadata": {},
     "output_type": "execute_result"
    }
   ],
   "source": [
    "val r = 1 to 5\n",
    "r.foreach(println)"
   ]
  },
  {
   "cell_type": "markdown",
   "metadata": {},
   "source": [
    "### do while loop"
   ]
  },
  {
   "cell_type": "code",
   "execution_count": 59,
   "metadata": {},
   "outputs": [
    {
     "name": "stdout",
     "output_type": "stream",
     "text": [
      "i is still less than 10\n",
      "i is still less than 10\n",
      "i is still less than 10\n",
      "i is still less than 10\n",
      "i is still less than 10\n",
      "i is still less than 10\n",
      "i is still less than 10\n",
      "i is still less than 10\n",
      "i is still less than 10\n",
      "i is still less than 10\n"
     ]
    },
    {
     "data": {
      "text/plain": [
       "i: Int = 10\n"
      ]
     },
     "execution_count": 59,
     "metadata": {},
     "output_type": "execute_result"
    }
   ],
   "source": [
    "var i = 0\n",
    "do {\n",
    "  println(\"i is still less than 10\")\n",
    "  i += 1\n",
    "} while (i < 10)"
   ]
  },
  {
   "cell_type": "markdown",
   "metadata": {},
   "source": [
    "## Classes"
   ]
  },
  {
   "cell_type": "markdown",
   "metadata": {},
   "source": [
    "Classes in scala are similar to classes in other languages. Constructor arguments are declared after the class name, and initialization is done in the class body."
   ]
  },
  {
   "cell_type": "code",
   "execution_count": 55,
   "metadata": {},
   "outputs": [
    {
     "name": "stdout",
     "output_type": "stream",
     "text": [
      "greyhound\n",
      "Woof, woof!\n"
     ]
    },
    {
     "data": {
      "text/plain": [
       "defined class Dog\n",
       "mydog: Dog = Dog@7c0a6075\n"
      ]
     },
     "execution_count": 55,
     "metadata": {},
     "output_type": "execute_result"
    }
   ],
   "source": [
    "class Dog(br: String) {\n",
    "  // Constructor code here\n",
    "  var breed: String = br\n",
    "\n",
    "  // Define a method called bark, returning a String\n",
    "  def bark = \"Woof, woof!\"\n",
    "\n",
    "}\n",
    "\n",
    "val mydog = new Dog(\"greyhound\")\n",
    "println(mydog.breed) // => \"greyhound\"\n",
    "println(mydog.bark)  // => \"Woof, woof!\""
   ]
  },
  {
   "cell_type": "markdown",
   "metadata": {},
   "source": [
    "## Objects\n",
    "An object is a class that has exactly one instance\n",
    "Object and class can have he same name\n",
    "### Companion Object\n",
    "A companion object in Scala is an object that’s declared in the same file as a class, and has the same name as the class.\n",
    "This has several benefits. First, a companion object and its class can access each other’s private members (fields and methods). \n"
   ]
  },
  {
   "cell_type": "code",
   "execution_count": null,
   "metadata": {},
   "outputs": [],
   "source": [
    "// Object Example \n",
    "object Dog {\n",
    "  def allKnownBreeds = List(\"pitbull\", \"shepherd\", \"retriever\")\n",
    "  def createDog(breed: String) = new Dog(breed)\n",
    "}"
   ]
  },
  {
   "cell_type": "code",
   "execution_count": null,
   "metadata": {},
   "outputs": [],
   "source": [
    "//Companion Object Example\n",
    "class SomeClass {\n",
    "    def printFilename() = {\n",
    "        println(SomeClass.HiddenFilename)\n",
    "    }\n",
    "}\n",
    "\n",
    "object SomeClass {\n",
    "    private val HiddenFilename = \"/tmp/foo.bar\"\n",
    "}"
   ]
  },
  {
   "cell_type": "markdown",
   "metadata": {},
   "source": [
    "## Case Classes\n",
    "Case classes are classes that have extra functionality built in.\n",
    "The primary purpose of case classes is to hold immutable data. They often have few methods, and the methods rarely have side-effects."
   ]
  },
  {
   "cell_type": "markdown",
   "metadata": {},
   "source": [
    "### Example"
   ]
  },
  {
   "cell_type": "code",
   "execution_count": null,
   "metadata": {},
   "outputs": [],
   "source": [
    "case class Person(name: String, phoneNumber: String)\n",
    "\n",
    "// Create a new instance. Note cases classes don't need \"new\"\n",
    "val george = Person(\"George\", \"1234\")\n",
    "val kate = Person(\"Kate\", \"4567\")\n",
    "\n",
    "// With case classes, you get a few perks for free, like getters:\n",
    "george.phoneNumber  // => \"1234\"\n",
    "\n",
    "// Per field equality (no need to override .equals)\n",
    "Person(\"George\", \"1234\") == Person(\"Kate\", \"1236\")  // => false\n",
    "\n",
    "// Easy way to copy\n",
    "// otherGeorge == Person(\"George\", \"9876\")\n",
    "val otherGeorge = george.copy(phoneNumber = \"9876\")\n"
   ]
  },
  {
   "cell_type": "markdown",
   "metadata": {},
   "source": [
    "## Traits\n",
    "Traits are used to share interfaces and fields between classes. These are similar to interfaces in Java. Similar to Java interfaces, traits define an object type and method signatures. Scala allows partial implementation of those methods. Constructor parameters are not allowed. Traits can inherit from other traits or classes without parameters."
   ]
  },
  {
   "cell_type": "markdown",
   "metadata": {},
   "source": [
    "Example -"
   ]
  },
  {
   "cell_type": "code",
   "execution_count": 28,
   "metadata": {},
   "outputs": [
    {
     "data": {
      "text/plain": [
       "defined trait Dog\n",
       "defined class SaintBernard\n"
      ]
     },
     "execution_count": 28,
     "metadata": {},
     "output_type": "execute_result"
    }
   ],
   "source": [
    "trait Dog {\n",
    "    def breed: String\n",
    "    def color: String\n",
    "    def bark: Boolean = true\n",
    "    def bite: Boolean\n",
    "}\n",
    "class SaintBernard extends Dog {\n",
    "    val breed = \"Saint Bernard\"\n",
    "    val color = \"brown\"\n",
    "    def bite = false\n",
    "}  "
   ]
  },
  {
   "cell_type": "markdown",
   "metadata": {},
   "source": [
    "# Example - Tennis Best Players on Clay Surface"
   ]
  },
  {
   "cell_type": "code",
   "execution_count": 30,
   "metadata": {},
   "outputs": [
    {
     "data": {
      "text/plain": [
       "dfatpclay: org.apache.spark.sql.DataFrame = [_c0: int, Surface: string ... 5 more fields]\n"
      ]
     },
     "execution_count": 30,
     "metadata": {},
     "output_type": "execute_result"
    }
   ],
   "source": [
    "/*\n",
    "*Load csv file into dataframe using scala.\n",
    "*The options selected inlcude \n",
    "*inferschema set to True so that it automatically detects the data type of each column\n",
    "*delimiter set to comma and header set to True so that first line of the file becomes the header; \n",
    "*comparable command in pandas is --> data = pd.read_csv(file_name, encoding = 'ISO-8859-1')\n",
    "*/\n",
    "val dfatpclay = spark.read.options(Map(\"inferSchema\"->\"true\",\"delimiter\"->\",\",\"header\"->\"true\"))\n",
    "  .csv(\"/Users/psehgal/dev/airflow_home/Tennis_Data_Pipeline_Airflow_Project/images_for_reports/topclaycsv.csv\")\n"
   ]
  },
  {
   "cell_type": "code",
   "execution_count": 38,
   "metadata": {},
   "outputs": [
    {
     "name": "stdout",
     "output_type": "stream",
     "text": [
      "root\n",
      " |-- _c0: integer (nullable = true)\n",
      " |-- Surface: string (nullable = true)\n",
      " |-- Player: string (nullable = true)\n",
      " |-- Count_Win: integer (nullable = true)\n",
      " |-- Count_Lose: integer (nullable = true)\n",
      " |-- total_play: integer (nullable = true)\n",
      " |-- perc_win: double (nullable = true)\n",
      "\n"
     ]
    }
   ],
   "source": [
    "//print the schema of the dataframe\n",
    "dfatpclay.printSchema()"
   ]
  },
  {
   "cell_type": "code",
   "execution_count": 39,
   "metadata": {},
   "outputs": [
    {
     "data": {
      "text/plain": [
       "dfatpclay1: org.apache.spark.sql.DataFrame = [_c0: int, Surface: string ... 5 more fields]\n"
      ]
     },
     "execution_count": 39,
     "metadata": {},
     "output_type": "execute_result"
    }
   ],
   "source": [
    "//Rename column name. It will create a new dataframe\n",
    "val dfatpclay1= dfatpclay.withColumnRenamed(\"total_play\", \"total_games\")\n"
   ]
  },
  {
   "cell_type": "code",
   "execution_count": 40,
   "metadata": {},
   "outputs": [
    {
     "name": "stdout",
     "output_type": "stream",
     "text": [
      "root\n",
      " |-- _c0: integer (nullable = true)\n",
      " |-- Surface: string (nullable = true)\n",
      " |-- Player: string (nullable = true)\n",
      " |-- Count_Win: integer (nullable = true)\n",
      " |-- Count_Lose: integer (nullable = true)\n",
      " |-- total_games: integer (nullable = true)\n",
      " |-- perc_win: double (nullable = true)\n",
      "\n"
     ]
    }
   ],
   "source": [
    "//print the schema of the new dataframe\n",
    "dfatpclay1.printSchema()"
   ]
  },
  {
   "cell_type": "code",
   "execution_count": 43,
   "metadata": {},
   "outputs": [
    {
     "data": {
      "text/plain": [
       "res24: org.apache.spark.sql.DataFrame = [_c0: int, Surface: string ... 5 more fields]\n"
      ]
     },
     "execution_count": 43,
     "metadata": {},
     "output_type": "execute_result"
    }
   ],
   "source": [
    "//If I change the column name of the existing dataframe\n",
    "dfatpclay.withColumnRenamed(\"total_play\", \"total_games\")\n"
   ]
  },
  {
   "cell_type": "code",
   "execution_count": 44,
   "metadata": {},
   "outputs": [
    {
     "name": "stdout",
     "output_type": "stream",
     "text": [
      "root\n",
      " |-- _c0: integer (nullable = true)\n",
      " |-- Surface: string (nullable = true)\n",
      " |-- Player: string (nullable = true)\n",
      " |-- Count_Win: integer (nullable = true)\n",
      " |-- Count_Lose: integer (nullable = true)\n",
      " |-- total_play: integer (nullable = true)\n",
      " |-- perc_win: double (nullable = true)\n",
      "\n"
     ]
    }
   ],
   "source": [
    "//and print the schema of the existing dataframe. you can see the column names did not change\n",
    "dfatpclay.printSchema()"
   ]
  },
  {
   "cell_type": "code",
   "execution_count": 45,
   "metadata": {},
   "outputs": [
    {
     "name": "stdout",
     "output_type": "stream",
     "text": [
      "[396,Clay,Nadal R.,351,35,386,90.93]\n",
      "[135,Clay,Djokovic N.,169,39,208,81.25]\n",
      "[165,Clay,Federer R.,203,60,263,77.19]\n",
      "[304,Clay,Kuerten G.,105,40,145,72.41]\n",
      "[169,Clay,Ferrero J.C.,221,86,307,71.99]\n",
      "[405,Clay,Nishikori K.,60,24,84,71.43]\n",
      "[550,Clay,Thiem D.,59,24,83,71.08]\n",
      "[100,Clay,Coria G.,129,53,182,70.88]\n",
      "[168,Clay,Ferrer D.,293,122,415,70.6]\n",
      "[389,Clay,Moya C.,203,85,288,70.49]\n"
     ]
    }
   ],
   "source": [
    "// print the contents of dataframe\n",
    "//comparable command in pandas --> dfatpclay1\n",
    "dfatpclay1.collect.foreach(println)"
   ]
  },
  {
   "cell_type": "code",
   "execution_count": 51,
   "metadata": {},
   "outputs": [
    {
     "name": "stdout",
     "output_type": "stream",
     "text": [
      "+---+-------+------------+---------+----------+-----------+--------+\n",
      "|_c0|Surface|      Player|Count_Win|Count_Lose|total_games|perc_win|\n",
      "+---+-------+------------+---------+----------+-----------+--------+\n",
      "|396|   Clay|    Nadal R.|      351|        35|        386|   90.93|\n",
      "|135|   Clay| Djokovic N.|      169|        39|        208|   81.25|\n",
      "|165|   Clay|  Federer R.|      203|        60|        263|   77.19|\n",
      "|304|   Clay|  Kuerten G.|      105|        40|        145|   72.41|\n",
      "|169|   Clay|Ferrero J.C.|      221|        86|        307|   71.99|\n",
      "|405|   Clay|Nishikori K.|       60|        24|         84|   71.43|\n",
      "|550|   Clay|    Thiem D.|       59|        24|         83|   71.08|\n",
      "|100|   Clay|    Coria G.|      129|        53|        182|   70.88|\n",
      "|168|   Clay|   Ferrer D.|      293|       122|        415|    70.6|\n",
      "|389|   Clay|     Moya C.|      203|        85|        288|   70.49|\n",
      "+---+-------+------------+---------+----------+-----------+--------+\n",
      "\n"
     ]
    }
   ],
   "source": [
    "dfatpclay1.sort(col(\"perc_win\").desc).show(true)"
   ]
  },
  {
   "cell_type": "markdown",
   "metadata": {},
   "source": [
    "## Show Top 3 players on Clay Surface"
   ]
  },
  {
   "cell_type": "code",
   "execution_count": 53,
   "metadata": {},
   "outputs": [
    {
     "name": "stdout",
     "output_type": "stream",
     "text": [
      "+---+-------+-----------+---------+----------+-----------+--------+\n",
      "|_c0|Surface|     Player|Count_Win|Count_Lose|total_games|perc_win|\n",
      "+---+-------+-----------+---------+----------+-----------+--------+\n",
      "|396|   Clay|   Nadal R.|      351|        35|        386|   90.93|\n",
      "|135|   Clay|Djokovic N.|      169|        39|        208|   81.25|\n",
      "|165|   Clay| Federer R.|      203|        60|        263|   77.19|\n",
      "+---+-------+-----------+---------+----------+-----------+--------+\n",
      "only showing top 3 rows\n",
      "\n"
     ]
    }
   ],
   "source": [
    "dfatpclay1.show(3)"
   ]
  },
  {
   "cell_type": "code",
   "execution_count": null,
   "metadata": {},
   "outputs": [],
   "source": []
  }
 ],
 "metadata": {
  "kernelspec": {
   "display_name": "spylon-kernel",
   "language": "scala",
   "name": "spylon-kernel"
  },
  "language_info": {
   "codemirror_mode": "text/x-scala",
   "file_extension": ".scala",
   "help_links": [
    {
     "text": "MetaKernel Magics",
     "url": "https://metakernel.readthedocs.io/en/latest/source/README.html"
    }
   ],
   "mimetype": "text/x-scala",
   "name": "scala",
   "pygments_lexer": "scala",
   "version": "0.4.1"
  }
 },
 "nbformat": 4,
 "nbformat_minor": 2
}
